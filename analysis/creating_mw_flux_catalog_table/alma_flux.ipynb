{
 "cells": [
  {
   "cell_type": "code",
   "execution_count": 1,
   "id": "b628b1c6-76ae-4d6e-b951-66aaff9a4900",
   "metadata": {},
   "outputs": [],
   "source": [
    "from astropy.io import fits\n",
    "import numpy as np\n",
    "from astropy.table import Table\n",
    "from decimal import *\n",
    "import pandas as pd\n",
    "from math import *\n",
    "from astropy.coordinates import SkyCoord\n",
    "import astropy.units as u\n",
    "from astropy.io import ascii\n",
    "import glob\n",
    "import os\n",
    "from pathlib import Path\n",
    "from astropy.wcs import WCS\n",
    "from astropy.utils.data import get_pkg_data_filename\n",
    "import matplotlib.pyplot as plt\n",
    "from astropy.nddata import Cutout2D\n",
    "plt.style.use(\"stylesheet.txt\")\n",
    "from functools import reduce\n",
    "import multiwavlength_fluxes as mf"
   ]
  },
  {
   "cell_type": "code",
   "execution_count": 2,
   "id": "90fa484b-fa06-43dd-9f7e-8bf99a011f5e",
   "metadata": {},
   "outputs": [],
   "source": [
    "ms_cdfs = [\"CDFS-18\", \"CDFS-19\"]\n",
    "ms_es1 = [\"ES1-12\",\"ES1-18\",\"ES1-25\",\"ES1-26\",\"ES1-34\",\"ES1-35\"]\n",
    "ms_xmm = [\"XMM-11\",\"XMM-19\",\"XMM-27\",\"XMM-29\",\"XMM-30\"]\n",
    "ms_bcgs = ms_cdfs + ms_es1 + ms_xmm\n",
    "sb_es1_bcgs = [\"ES1_z_0.88\", \"ES1_z_0.99\", \"ES1_z_0.99b\", \"ES1_z_1.04\", \"ES1_z_1.38\", \"ES1_z_1.40\", \"ES1_z_1.60\", \"ES1_z_1.65\", \"ES1_z_1.70\"]\n",
    "sb_xmm_bcgs = [\"XMM_113\", \"XMM_z_0.9\", \"XMM_z_1.0\", \"XMM_z_0.81\"]\n",
    "sb_bcgs = sb_es1_bcgs + sb_xmm_bcgs\n",
    "all_bcgs = ms_bcgs + sb_bcgs"
   ]
  },
  {
   "cell_type": "code",
   "execution_count": 3,
   "id": "e7ceb01d-5dbc-42fa-8e00-71ea05d757ba",
   "metadata": {},
   "outputs": [],
   "source": [
    "for bcg in all_bcgs:\n",
    "    files = glob.glob(bcg + \"/*.reg\")\n",
    "    for file in files:\n",
    "        os.remove(file)"
   ]
  },
  {
   "cell_type": "code",
   "execution_count": 4,
   "id": "a7f48d68-161a-49c7-aa2f-28e8da6985f4",
   "metadata": {},
   "outputs": [],
   "source": [
    "bcg_coords = pd.read_csv(\"BCG_coords.txt\", delim_whitespace = True, names = ['id', 'ra', 'dec']).sort_values('id', ascending = True).reset_index(drop = True)"
   ]
  },
  {
   "cell_type": "code",
   "execution_count": 5,
   "id": "3f5c81b7-5f0d-4d28-be01-5da00177c1fd",
   "metadata": {},
   "outputs": [],
   "source": [
    "bcg_info = pd.read_csv(\"BCG_info.csv\")[[\"BCG\",\"ALMA flux\", \"Flux_err\"]]\n",
    "final_flux_catalog = pd.DataFrame()"
   ]
  },
  {
   "cell_type": "code",
   "execution_count": 6,
   "id": "63d34220-93d3-4f23-94b3-22f53fc3a17e",
   "metadata": {},
   "outputs": [],
   "source": [
    "for ind, row in bcg_coords.iterrows():\n",
    "    des_catalog = mf.des_flux(row['id'], row['ra'], row['dec'])\n",
    "    irac_catalog = mf.irac_flux(row['id'], row['ra'], row['dec'])\n",
    "    hermes_catalog = mf.hermes_flux(row['id'], row['ra'], row['dec'])\n",
    "    hermes_catalog['spitzer.mips.24'] = hermes_catalog['spitzer.mips.24']*0.001\n",
    "    hermes_catalog['spitzer.mips.24_err'] = hermes_catalog['spitzer.mips.24_err']*0.001\n",
    "    des_irac = pd.merge(des_catalog, irac_catalog, on = 'id')\n",
    "    all_fluxes = pd.merge(des_irac, hermes_catalog, on = 'id')\n",
    "    final_flux_catalog = final_flux_catalog.append(all_fluxes)"
   ]
  },
  {
   "cell_type": "code",
   "execution_count": 7,
   "id": "3829ac34-7c56-462c-9ae8-0998d105e920",
   "metadata": {},
   "outputs": [],
   "source": [
    "final_flux_catalog = final_flux_catalog.reset_index(drop = True)\n",
    "bcg_info = bcg_info.rename(columns = {\"BCG\":\"id\"})\n",
    "all_fluxes = pd.merge(final_flux_catalog,bcg_info,  on = 'id')\n",
    "all_fluxes['redshift'] = [0.80758, 0.69484, 0.74744, 0.8068, 1.08807, 0.85192, 1.7, 1.7, 0.56395, 1.19372, 0.91886, 1.04, 1.38, 1.4, 1.6, 1.65, 0.91651, 0.79, \n",
    "                         1.04789, 1.38, 1.45, 1.45, 1.6, 0.7827207, 0.84957, 0.5352355]"
   ]
  },
  {
   "cell_type": "code",
   "execution_count": 8,
   "id": "564b066a-b321-4492-80c6-c929a193677a",
   "metadata": {},
   "outputs": [],
   "source": [
    "all_fluxes = all_fluxes[['id','redshift', 'des_g', 'des_r', 'des_i', 'des_z', 'des_Y', 'des_g_err', 'des_r_err',\n",
    "       'des_i_err', 'des_z_err', 'des_Y_err', 'spitzer.irac.ch1',\n",
    "       'spitzer.irac.ch1_err', 'spitzer.irac.ch2', 'spitzer.irac.ch2_err',\n",
    "       'spitzer.irac.ch3', 'spitzer.irac.ch3_err', 'spitzer.irac.ch4',\n",
    "       'spitzer.irac.ch4_err', 'spitzer.mips.24', 'spitzer.mips.24_err',\n",
    "       'herschel.spire.PSW', 'herschel.spire.PSW_err', 'herschel.spire.PMW',\n",
    "       'herschel.spire.PMW_err', 'herschel.spire.PLW',\n",
    "       'herschel.spire.PLW_err', 'ALMA flux', 'Flux_err']]"
   ]
  },
  {
   "cell_type": "code",
   "execution_count": 9,
   "id": "055a7c7d-ef25-4bd1-850c-c915c7b6c061",
   "metadata": {},
   "outputs": [],
   "source": [
    "high_z_es1 = ['ES1_z_1.38', 'ES1_z_1.40', 'ES1_z_1.60',\n",
    "       'ES1_z_1.65', 'ES1_z_1.70']"
   ]
  },
  {
   "cell_type": "code",
   "execution_count": 10,
   "id": "544d7b25-4cb0-4125-98d4-248ec35c76ae",
   "metadata": {},
   "outputs": [],
   "source": [
    "path = \"/Users/arames52/Downloads/cigale-v2020.0/pcigale/data/\""
   ]
  },
  {
   "cell_type": "code",
   "execution_count": 11,
   "id": "e90e6b5b-62b4-46b4-acfd-18827b23d0af",
   "metadata": {},
   "outputs": [],
   "source": [
    "for bcg in high_z_es1:\n",
    "    flux_table = all_fluxes[all_fluxes['id'] == bcg]\n",
    "    flux_table = flux_table.rename(columns = {\"ALMA flux\": \"es1_highz_alma\", \"Flux_err\": \"es1_highz_alma_err\"})\n",
    "    flux_table.to_csv(path + bcg + \"/flux_table.csv\", index = False)"
   ]
  },
  {
   "cell_type": "code",
   "execution_count": 12,
   "id": "a80cc494-4cf1-4cd9-8378-c30fa6eca3a2",
   "metadata": {},
   "outputs": [],
   "source": [
    "from collections import Counter\n",
    "other_bcgs = list((Counter(np.array(all_fluxes['id']))-Counter(high_z_es1)).elements())"
   ]
  },
  {
   "cell_type": "code",
   "execution_count": 13,
   "id": "4d6106b5-1a1f-432e-90ce-bd655196b558",
   "metadata": {},
   "outputs": [],
   "source": [
    "for bcg in other_bcgs:\n",
    "    flux_table = all_fluxes[all_fluxes['id'] == bcg]\n",
    "    flux_table = flux_table.rename(columns = {\"ALMA flux\": bcg, \"Flux_err\": bcg + \"_err\"})\n",
    "    flux_table.to_csv(path + bcg + \"/flux_table.csv\", index = False)"
   ]
  },
  {
   "cell_type": "code",
   "execution_count": 14,
   "id": "71bbf793-73e4-447b-b471-3766a031fa67",
   "metadata": {},
   "outputs": [],
   "source": [
    "ms_es1 = ['ES1-12',\n",
    " 'ES1-18',\n",
    " 'ES1-25',\n",
    " 'ES1-26',\n",
    " 'ES1-34',\n",
    " 'ES1-35']\n",
    "ms_xmm = ['XMM-11',\n",
    " 'XMM-19',\n",
    " 'XMM-27',\n",
    " 'XMM-29',\n",
    " 'XMM-30']\n",
    "ms_cdfs = [\"CDFS-18\", \"CDFS-19\"]"
   ]
  },
  {
   "cell_type": "code",
   "execution_count": 15,
   "id": "e8b288cf-9f57-4e2f-9f43-52c7ce8908a6",
   "metadata": {},
   "outputs": [],
   "source": [
    "for bcg in ms_es1:\n",
    "    flux_table = all_fluxes[all_fluxes['id'] == bcg]\n",
    "    flux_table = flux_table.rename(columns = {\"ALMA flux\": \"ES1-18\", \"Flux_err\": \"ES1-18_err\"})\n",
    "    flux_table.to_csv(path + bcg + \"/flux_table.csv\", index = False)\n",
    "for bcg in ms_xmm:\n",
    "    flux_table = all_fluxes[all_fluxes['id'] == bcg]\n",
    "    flux_table = flux_table.rename(columns = {\"ALMA flux\": \"XMM-11\", \"Flux_err\": \"XMM-11_err\"})\n",
    "    flux_table.to_csv(path + bcg + \"/flux_table.csv\", index = False)\n",
    "for bcg in ms_cdfs:\n",
    "    flux_table = all_fluxes[all_fluxes['id'] == bcg]\n",
    "    flux_table = flux_table.rename(columns = {\"ALMA flux\": \"CDFS-18\", \"Flux_err\": \"CDFS-18_err\"})\n",
    "    flux_table.to_csv(path + bcg + \"/flux_table.csv\", index = False)"
   ]
  },
  {
   "cell_type": "code",
   "execution_count": 16,
   "id": "4db66580-c585-42a7-9f03-eef3d8851383",
   "metadata": {},
   "outputs": [],
   "source": [
    "all_fluxes[['id','redshift']].to_csv(\"/Users/arames52/Downloads/cigale-v2020.0/pcigale/data/bcg_redshifts.csv\", index = False)"
   ]
  },
  {
   "cell_type": "code",
   "execution_count": 3,
   "id": "df708a44-bbb9-4942-81e0-a94780915841",
   "metadata": {},
   "outputs": [
    {
     "ename": "NameError",
     "evalue": "name 'all_fluxes' is not defined",
     "output_type": "error",
     "traceback": [
      "\u001b[0;31m---------------------------------------------------------------------------\u001b[0m",
      "\u001b[0;31mNameError\u001b[0m                                 Traceback (most recent call last)",
      "\u001b[0;32m<ipython-input-3-d77eb75d206f>\u001b[0m in \u001b[0;36m<module>\u001b[0;34m\u001b[0m\n\u001b[0;32m----> 1\u001b[0;31m \u001b[0mall_fluxes\u001b[0m\u001b[0;34m\u001b[0m\u001b[0;34m\u001b[0m\u001b[0m\n\u001b[0m",
      "\u001b[0;31mNameError\u001b[0m: name 'all_fluxes' is not defined"
     ]
    }
   ],
   "source": [
    "all_fluxes"
   ]
  },
  {
   "cell_type": "code",
   "execution_count": null,
   "id": "6175f5aa",
   "metadata": {},
   "outputs": [],
   "source": []
  }
 ],
 "metadata": {
  "kernelspec": {
   "display_name": "Python 3",
   "language": "python",
   "name": "python3"
  },
  "language_info": {
   "codemirror_mode": {
    "name": "ipython",
    "version": 3
   },
   "file_extension": ".py",
   "mimetype": "text/x-python",
   "name": "python",
   "nbconvert_exporter": "python",
   "pygments_lexer": "ipython3",
   "version": "3.8.5"
  }
 },
 "nbformat": 4,
 "nbformat_minor": 5
}
