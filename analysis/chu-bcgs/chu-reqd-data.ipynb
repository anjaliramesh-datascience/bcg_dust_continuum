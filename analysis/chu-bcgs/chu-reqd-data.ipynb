{
 "cells": [
  {
   "cell_type": "code",
   "execution_count": 9,
   "metadata": {},
   "outputs": [],
   "source": [
    "import pandas as pd\n",
    "hst_bcgs = pd.read_csv(\"table2.dat.txt\", delim_whitespace=True, names = [\"name\", \"class\", \"model\", \"mag\", \n",
    "                                                                                                  \"mean_sb\", \"re\", \"n\", \"b/a\", \"pa\", \n",
    "                                                                                                   \"align\"])\n",
    "hst_bcgs_tab1 = pd.read_csv(\"table1.dat.txt\", delim_whitespace=True, names = [\"name\", \"ra\",\n",
    "                                                    \"dec\", \"z\", \"class\", \"inst\", \"filter\", \"scale\", \"color\"])\n",
    "hst_bcgs_mass = pd.read_csv(\"hst_bcgs_mass.dat.txt\", delim_whitespace = True, names = [\"name\", \"ra\", \"dec\", \"r_pos\",\"M200\", \"E_M200\", \"e_M200\", \"Method\", \"r-M200\",\"PAcl\", \"e_PAcl\",\"r\"])\n",
    "hst_bcgs_mass = hst_bcgs_mass[[\"name\", \"M200\", \"e_M200\"]]\n",
    "hst_bcgs = hst_bcgs.merge(hst_bcgs_tab1, on = \"name\")\n",
    "hst_bcgs = hst_bcgs.merge(hst_bcgs_mass, on = \"name\")\n",
    "hst_bcgs = hst_bcgs[hst_bcgs['model'] == \"Sersic\"]"
   ]
  },
  {
   "cell_type": "code",
   "execution_count": 11,
   "metadata": {},
   "outputs": [],
   "source": [
    "hst_bcgs.to_csv(\"hst-bcgs.csv\", index=False)"
   ]
  },
  {
   "cell_type": "code",
   "execution_count": null,
   "metadata": {},
   "outputs": [],
   "source": []
  }
 ],
 "metadata": {
  "kernelspec": {
   "display_name": "base",
   "language": "python",
   "name": "python3"
  },
  "language_info": {
   "codemirror_mode": {
    "name": "ipython",
    "version": 3
   },
   "file_extension": ".py",
   "mimetype": "text/x-python",
   "name": "python",
   "nbconvert_exporter": "python",
   "pygments_lexer": "ipython3",
   "version": "3.11.7"
  },
  "orig_nbformat": 4
 },
 "nbformat": 4,
 "nbformat_minor": 2
}
