{
 "cells": [
  {
   "cell_type": "code",
   "execution_count": 13,
   "id": "72400a9c-1f1c-4e6f-91ea-a73f3954c7fd",
   "metadata": {},
   "outputs": [],
   "source": [
    "from pathlib import Path\n",
    "import subprocess\n",
    "import numpy as np\n",
    "import glob\n",
    "import os"
   ]
  },
  {
   "cell_type": "code",
   "execution_count": 14,
   "id": "962831fa-34c5-4612-8116-f7d0f05b96a3",
   "metadata": {},
   "outputs": [],
   "source": [
    "ms_cdfs = [\"CDFS-18\", \"CDFS-19\"]\n",
    "ms_es1 = [\"ES1-12\",\"ES1-18\",\"ES1-25\",\"ES1-26\",\"ES1-34\",\"ES1-35\"]\n",
    "ms_xmm = [\"XMM-11\",\"XMM-19\",\"XMM-27\",\"XMM-29\",\"XMM-30\"]\n",
    "ms_bcgs = ms_cdfs + ms_es1 + ms_xmm"
   ]
  },
  {
   "cell_type": "code",
   "execution_count": 31,
   "id": "be0332b7-bd7c-4869-9f1d-7f90d3683b5c",
   "metadata": {},
   "outputs": [],
   "source": [
    "sb_es1_bcgs = [\"ES1_z_0.88\", \"ES1_z_0.99\", \"ES1_z_0.99b\", \"ES1_z_1.04\", \"ES1_z_1.38\", \"ES1_z_1.40\", \"ES1_z_1.60\", \"ES1_z_1.65\", \"ES1_z_1.70\"]\n",
    "sb_xmm_bcgs = [\"XMM_113\", \"XMM_z_0.9\", \"XMM_z_1.0\", \"XMM_z_0.81\"]\n",
    "sb_bcgs = sb_es1_bcgs + sb_xmm_bcgs"
   ]
  },
  {
   "cell_type": "code",
   "execution_count": 32,
   "id": "9315e2dd-fdfe-4348-a13b-4e44f63a55b9",
   "metadata": {},
   "outputs": [],
   "source": [
    "for bcg in sb_bcgs:\n",
    "    path = bcg + \"/grz/\"\n",
    "    images = sorted(glob.glob(path + \"*.fits\"))\n",
    "    new_names = [path +'g_band.fits', path+'r_band.fits', path+'z_band.fits']\n",
    "    for o,i in zip(images, new_names):\n",
    "            os.rename(o, i)"
   ]
  },
  {
   "cell_type": "code",
   "execution_count": 33,
   "id": "fa54d724-2077-49a1-8ca6-d8606a3a9f09",
   "metadata": {},
   "outputs": [
    {
     "name": "stdout",
     "output_type": "stream",
     "text": [
      "['stiff ES1_z_0.88/grz/z_band.fits ES1_z_0.88/grz/r_band.fits ES1_z_0.88/grz/g_band.fits -c stiff.conf -OUTFILE_NAME ES1_z_0.88_rgb.tiff']\n",
      "['stiff ES1_z_0.99/grz/z_band.fits ES1_z_0.99/grz/r_band.fits ES1_z_0.99/grz/g_band.fits -c stiff.conf -OUTFILE_NAME ES1_z_0.99_rgb.tiff']\n",
      "['stiff ES1_z_0.99b/grz/z_band.fits ES1_z_0.99b/grz/r_band.fits ES1_z_0.99b/grz/g_band.fits -c stiff.conf -OUTFILE_NAME ES1_z_0.99b_rgb.tiff']\n",
      "['stiff ES1_z_1.04/grz/z_band.fits ES1_z_1.04/grz/r_band.fits ES1_z_1.04/grz/g_band.fits -c stiff.conf -OUTFILE_NAME ES1_z_1.04_rgb.tiff']\n",
      "['stiff ES1_z_1.38/grz/z_band.fits ES1_z_1.38/grz/r_band.fits ES1_z_1.38/grz/g_band.fits -c stiff.conf -OUTFILE_NAME ES1_z_1.38_rgb.tiff']\n",
      "['stiff ES1_z_1.40/grz/z_band.fits ES1_z_1.40/grz/r_band.fits ES1_z_1.40/grz/g_band.fits -c stiff.conf -OUTFILE_NAME ES1_z_1.40_rgb.tiff']\n",
      "['stiff ES1_z_1.60/grz/z_band.fits ES1_z_1.60/grz/r_band.fits ES1_z_1.60/grz/g_band.fits -c stiff.conf -OUTFILE_NAME ES1_z_1.60_rgb.tiff']\n",
      "['stiff ES1_z_1.65/grz/z_band.fits ES1_z_1.65/grz/r_band.fits ES1_z_1.65/grz/g_band.fits -c stiff.conf -OUTFILE_NAME ES1_z_1.65_rgb.tiff']\n",
      "['stiff ES1_z_1.70/grz/z_band.fits ES1_z_1.70/grz/r_band.fits ES1_z_1.70/grz/g_band.fits -c stiff.conf -OUTFILE_NAME ES1_z_1.70_rgb.tiff']\n",
      "['stiff XMM_113/grz/z_band.fits XMM_113/grz/r_band.fits XMM_113/grz/g_band.fits -c stiff.conf -OUTFILE_NAME XMM_113_rgb.tiff']\n",
      "['stiff XMM_z_0.9/grz/z_band.fits XMM_z_0.9/grz/r_band.fits XMM_z_0.9/grz/g_band.fits -c stiff.conf -OUTFILE_NAME XMM_z_0.9_rgb.tiff']\n",
      "['stiff XMM_z_1.0/grz/z_band.fits XMM_z_1.0/grz/r_band.fits XMM_z_1.0/grz/g_band.fits -c stiff.conf -OUTFILE_NAME XMM_z_1.0_rgb.tiff']\n",
      "['stiff XMM_z_0.81/grz/z_band.fits XMM_z_0.81/grz/r_band.fits XMM_z_0.81/grz/g_band.fits -c stiff.conf -OUTFILE_NAME XMM_z_0.81_rgb.tiff']\n"
     ]
    }
   ],
   "source": [
    "for bcg in sb_bcgs:\n",
    "    path = bcg + \"/grz/\"\n",
    "    images = sorted(glob.glob(path + \"*.fits\"))\n",
    "    cmds = [\"stiff \" + path + \"z_band.fits \" + path +\"r_band.fits \" + path + \"g_band.fits -c stiff.conf -OUTFILE_NAME \" + bcg+\"_rgb.tiff\"]\n",
    "    print(cmds)"
   ]
  },
  {
   "cell_type": "code",
   "execution_count": 10,
   "id": "a10ecd87-6a17-4c40-9f0d-0c4209ea338d",
   "metadata": {},
   "outputs": [
    {
     "data": {
      "text/plain": [
       "['cd XMM-30/grz/',\n",
       " 'stiff XMM-30/grz/DES0219-0541_r2577p01_g_extn=1_POS=34.6885000,-5.7157900_SIZE=0.03,0.03.fits XMM-30/grz/DES0219-0541_r2577p01_r_extn=1_POS=34.6885000,-5.7157900_SIZE=0.03,0.03.fits XMM-30/grz/DES0219-0541_r2577p01_z_extn=1_POS=34.6885000,-5.7157900_SIZE=0.03,0.03.fits -c stiff.conf -OUTFILE_NAME XMM-30_rgb.tiff',\n",
       " 'cd ..',\n",
       " 'cd ..']"
      ]
     },
     "execution_count": 10,
     "metadata": {},
     "output_type": "execute_result"
    }
   ],
   "source": [
    "cmds"
   ]
  },
  {
   "cell_type": "code",
   "execution_count": 19,
   "id": "ad255ddc-f1fe-44ce-a033-7151e7bed7cc",
   "metadata": {},
   "outputs": [],
   "source": [
    "path = \"CDFS-18/grz/\"\n",
    "images = sorted(glob.glob(path + \"*.fits\"))"
   ]
  },
  {
   "cell_type": "code",
   "execution_count": 25,
   "id": "8bb36e49-89b6-4354-9b9e-8fcc19a332d0",
   "metadata": {},
   "outputs": [],
   "source": [
    "cmds = [\"stiff \" + path + \"z_band.fits \" + path +\"r_band.fits \" + path + \"g_band.fits -c stiff.conf -OUTFILE_NAME \" + \"CDFS-18_rgb.tiff\"]"
   ]
  },
  {
   "cell_type": "code",
   "execution_count": 26,
   "id": "096073e2-0eb8-4f8a-bc7a-1d1b9cec5096",
   "metadata": {},
   "outputs": [
    {
     "data": {
      "text/plain": [
       "['stiff CDFS-18/grz/z_band.fits CDFS-18/grz/r_band.fits CDFS-18/grz/g_band.fits -c stiff.conf -OUTFILE_NAME CDFS-18_rgb.tiff']"
      ]
     },
     "execution_count": 26,
     "metadata": {},
     "output_type": "execute_result"
    }
   ],
   "source": [
    "cmds"
   ]
  },
  {
   "cell_type": "code",
   "execution_count": 27,
   "id": "886c5247-9430-4ed2-b408-1f8421a152e1",
   "metadata": {},
   "outputs": [
    {
     "data": {
      "text/plain": [
       "127"
      ]
     },
     "execution_count": 27,
     "metadata": {},
     "output_type": "execute_result"
    }
   ],
   "source": [
    "subprocess.call(\";\".join(cmds), shell = True)"
   ]
  },
  {
   "cell_type": "code",
   "execution_count": 12,
   "id": "12936d33-f6e8-47ae-9071-81666adb166e",
   "metadata": {},
   "outputs": [
    {
     "data": {
      "text/plain": [
       "['stiff CDFS-18/grz/DES0331-2706_r2682p01_g_extn=1_POS=53.3197000,-26.8963000_SIZE=0.03,0.03.fits CDFS-18/grz/DES0331-2706_r2682p01_r_extn=1_POS=53.3197000,-26.8963000_SIZE=0.03,0.03.fits CDFS-18/grz/DES0331-2706_r2682p01_z_extn=1_POS=53.3197000,-26.8963000_SIZE=0.03,0.03.fits -c stiff.conf -OUTFILE_NAME CDFS-18_rgb.tiff']"
      ]
     },
     "execution_count": 12,
     "metadata": {},
     "output_type": "execute_result"
    }
   ],
   "source": [
    "cmds"
   ]
  },
  {
   "cell_type": "code",
   "execution_count": null,
   "id": "916f78e4-2df6-4270-872b-2629d5a795a9",
   "metadata": {},
   "outputs": [],
   "source": []
  }
 ],
 "metadata": {
  "kernelspec": {
   "display_name": "Python 3",
   "language": "python",
   "name": "python3"
  },
  "language_info": {
   "codemirror_mode": {
    "name": "ipython",
    "version": 3
   },
   "file_extension": ".py",
   "mimetype": "text/x-python",
   "name": "python",
   "nbconvert_exporter": "python",
   "pygments_lexer": "ipython3",
   "version": "3.8.5"
  }
 },
 "nbformat": 4,
 "nbformat_minor": 5
}
