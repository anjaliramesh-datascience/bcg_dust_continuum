{
 "cells": [
  {
   "cell_type": "code",
   "execution_count": 15,
   "id": "2f98e1a3",
   "metadata": {},
   "outputs": [],
   "source": [
    "from numpy import *\n",
    "import matplotlib.pyplot as plt\n",
    "import scipy.ndimage as ndi\n",
    "from astropy.visualization import simple_norm\n",
    "from astropy.modeling import models\n",
    "from astropy.convolution import Gaussian2DKernel, convolve\n",
    "from astropy.coordinates import SkyCoord\n",
    "from astropy.wcs import WCS\n",
    "from astropy.stats import gaussian_fwhm_to_sigma\n",
    "from astropy.visualization import SqrtStretch\n",
    "from astropy.visualization.mpl_normalize import ImageNormalize\n",
    "from astropy.visualization.stretch import LinearStretch\n",
    "from astropy.visualization import ZScaleInterval\n",
    "from astropy.io import fits\n",
    "from astropy.nddata import Cutout2D\n",
    "from astropy import units as u\n",
    "import astropy\n",
    "import photutils\n",
    "import time\n",
    "from astropy.stats import sigma_clipped_stats\n",
    "import statmorph\n",
    "from statmorph.utils.image_diagnostics import make_figure\n",
    "import glob\n",
    "from PIL import Image\n",
    "import os\n",
    "import pandas as pd\n",
    "import numpy as np\n",
    "import pyregion\n",
    "from regions import Regions\n",
    "from math import *\n",
    "from numpy import inf\n",
    "# plt.style.use(\"stylesheet.txt\")\n",
    "import sep\n",
    "import scipy\n",
    "import warnings\n",
    "from astropy.wcs import FITSFixedWarning\n",
    "warnings.filterwarnings('ignore')"
   ]
  },
  {
   "cell_type": "code",
   "execution_count": 16,
   "id": "5083c3a1",
   "metadata": {},
   "outputs": [],
   "source": [
    "xmm_30_path = \"/Users/arames52/Desktop/Primary Project/Multiwavelength_bcg/ALMA/ND/XMM-30_ALMA.fits\""
   ]
  },
  {
   "cell_type": "code",
   "execution_count": 17,
   "id": "e7a43008",
   "metadata": {},
   "outputs": [],
   "source": [
    "bcg_images_path = sorted(glob.glob(\"ALMA/*.fits\"))\n",
    "%store -r rms_dict"
   ]
  },
  {
   "cell_type": "code",
   "execution_count": 18,
   "id": "909e10c8",
   "metadata": {},
   "outputs": [],
   "source": [
    "def morphology_computation(data):\n",
    "    threshold = photutils.detect_threshold(data, 1.8, background = 0)\n",
    "    npixels = 5 \n",
    "    segm = photutils.detect_sources(data, threshold, npixels)\n",
    "    label = np.argmax(segm.areas) + 1\n",
    "    segmap = segm.data == label\n",
    "    source_morphs = statmorph.source_morphology(data, segmap, gain = 1)\n",
    "    morph = source_morphs[0]\n",
    "    return morph, segmap"
   ]
  },
  {
   "cell_type": "code",
   "execution_count": 19,
   "id": "dd318a98",
   "metadata": {},
   "outputs": [],
   "source": [
    "def image_cutouts(bcg):\n",
    "    hdu = fits.open(bcg)[0]\n",
    "    image = hdu.data[0,0,:,:]\n",
    "    image = np.nan_to_num(image)\n",
    "    image /= np.amax(image)\n",
    "    header = hdu.header\n",
    "    ra = header['CRVAL1']\n",
    "    dec = header['CRVAL2']\n",
    "    wcs = WCS(header, naxis = 2)\n",
    "    position = SkyCoord(ra, dec, frame = 'icrs', unit = 'deg')\n",
    "    s = u.Quantity((8,8), u.arcsec)\n",
    "    cutout = Cutout2D(image, position = position, size = s, wcs = wcs)\n",
    "    return cutout, wcs"
   ]
  },
  {
   "cell_type": "code",
   "execution_count": 29,
   "id": "ee9724c9",
   "metadata": {},
   "outputs": [],
   "source": [
    "offsets = {}\n",
    "alma_centroid = {}"
   ]
  },
  {
   "cell_type": "code",
   "execution_count": 30,
   "id": "a87195a7",
   "metadata": {
    "scrolled": false
   },
   "outputs": [],
   "source": [
    "# fig, axs = plt.subplots(5,4, figsize=(12,10), facecolor='w', edgecolor='k')\n",
    "# axs = axs.ravel()\n",
    "for bcg, i in zip(bcg_images_path, range(len(bcg_images_path))):\n",
    "    name = bcg.split(\"_ALMA.fits\")[0].split(\"ALMA/\")[1]\n",
    "    data,wcs = image_cutouts(bcg)\n",
    "    image = data.data\n",
    "    morph,segmap = morphology_computation(image)\n",
    "    original_center = wcs.pixel_to_world(data.center_cutout[0], data.center_cutout[1])\n",
    "    alma_center = wcs.pixel_to_world(morph.xc_centroid, morph.yc_centroid)\n",
    "    alma_centroid[name] = alma_center\n",
    "#     axs[i].imshow(image, origin = 'lower', \n",
    "#                  norm = ImageNormalize(image, interval = ZScaleInterval(), stretch = LinearStretch()),\n",
    "#                 cmap = 'Greys_r')\n",
    "#     axs[i].scatter(morph.xc_centroid, morph.yc_centroid, color = 'red', marker = '+', label = 'alma centroid', linewidth = 1)\n",
    "#     axs[i].scatter(data.center_cutout[0], data.center_cutout[1], color = 'blue', marker = '+', label = '3.6micron centre', linewidth = 1)\n",
    "# #     axs[i].set_title(\"Original Image\")\n",
    "# #     axs[1].imshow(segmap, origin = 'lower', cmap = 'Greys_r')\n",
    "# #     axs[1].set_title(\"CAS Segmap\")\n",
    "# #     fig.legend(loc = 'center')\n",
    "#     axs[i].axes.xaxis.set_visible(False)\n",
    "#     axs[i].axes.yaxis.set_visible(False)\n",
    "#     axs[i].set_aspect('equal')\n",
    "#     axs[i].set_title(name + \" \" + str(round(original_center.separation(alma_center).arcsecond, 3)) + \"'' offset\")\n",
    "#     handles, labels = axs[i].get_legend_handles_labels()\n",
    "#     offsets[name] = round(original_center.separation(alma_center).arcsecond, 3)\n",
    "# fig.legend(handles, labels, bbox_to_anchor=(0.95,0.15))\n",
    "# axs[19].set_axis_off()\n",
    "# # fig.subplots_adjust(wspace=0, hspace=0)\n",
    "# plt.tight_layout()\n",
    "# fig.savefig(\"bcgs_offset.jpg\", dpi = 300)\n",
    "#     axs[1].axes.xaxis.set_visible(False)\n",
    "#     axs[1].axes.yaxis.set_visible(False)\n",
    "#     fig.suptitle(name + \" \" + str(original_center.separation(alma_center).arcsecond) + \"'' offset\", y = 0.75)\n",
    "#     fig.savefig(name + \"_offset.jpg\", dpi = 300)\n",
    "#     print(name)\n",
    "#     print(original_center.separation(alma_center).arcsecond)\n",
    "#     print(\"--------------\")"
   ]
  },
  {
   "cell_type": "code",
   "execution_count": 31,
   "id": "1a840b8d",
   "metadata": {},
   "outputs": [],
   "source": [
    "data,wcs = image_cutouts(xmm_30_path)\n",
    "image = data.data\n",
    "morph,segmap = morphology_computation(image)\n",
    "original_center = wcs.pixel_to_world(data.center_cutout[0], data.center_cutout[1])\n",
    "alma_center = wcs.pixel_to_world(morph.xc_centroid, morph.yc_centroid)"
   ]
  },
  {
   "cell_type": "code",
   "execution_count": 32,
   "id": "0e1cf0f7",
   "metadata": {},
   "outputs": [
    {
     "data": {
      "image/png": "[encoded data removed]",
      "text/plain": [
       "<Figure size 288x288 with 1 Axes>"
      ]
     },
     "metadata": {
      "needs_background": "light"
     },
     "output_type": "display_data"
    }
   ],
   "source": [
    "name = 'XMM-30'\n",
    "fig,axs = plt.subplots(1,1, figsize = (4,4))\n",
    "axs.imshow(image, origin = 'lower', \n",
    "                 norm = ImageNormalize(image, interval = ZScaleInterval(), stretch = LinearStretch()),\n",
    "                cmap = 'Greys_r')\n",
    "axs.scatter(morph.xc_centroid, morph.yc_centroid, color = 'red', marker = '+', label = 'alma centroid', linewidth = 1)\n",
    "axs.scatter(data.center_cutout[0], data.center_cutout[1], color = 'blue', marker = '+', label = '3.6micron centre', linewidth = 1)\n",
    "axs.axes.xaxis.set_visible(False)\n",
    "axs.axes.yaxis.set_visible(False)\n",
    "alma_centroid[name] = wcs.pixel_to_world(morph.xc_centroid, morph.yc_centroid)\n",
    "axs.set_title(name + \" \" + str(round(original_center.separation(alma_center).arcsecond, 3)) + \"'' offset\")\n",
    "handles, labels = axs.get_legend_handles_labels()\n",
    "fig.legend(handles, labels, bbox_to_anchor=(1.35,1))\n",
    "# fig.savefig(\"xmm30_offset.jpg\", dpi = 300,bbox_inches=\"tight\")\n",
    "offsets[name] = round(original_center.separation(alma_center).arcsecond, 3)"
   ]
  },
  {
   "cell_type": "code",
   "execution_count": 33,
   "id": "fe8e37d9",
   "metadata": {},
   "outputs": [
    {
     "data": {
      "text/plain": [
       "{'CDFS-18': <SkyCoord (ICRS): (ra, dec) in deg\n",
       "     (53.32441549, -26.90039044)>,\n",
       " 'CDFS-19': <SkyCoord (ICRS): (ra, dec) in deg\n",
       "     (53.48867103, -27.26361894)>,\n",
       " 'ES1-18': <SkyCoord (ICRS): (ra, dec) in deg\n",
       "     (7.03682225, -43.34920686)>,\n",
       " 'ES1-34': <SkyCoord (ICRS): (ra, dec) in deg\n",
       "     (9.21625725, -42.12216359)>,\n",
       " 'ES1_z_0.88': <SkyCoord (ICRS): (ra, dec) in deg\n",
       "     (8.82606033, -42.69018176)>,\n",
       " 'ES1_z_0.99': <SkyCoord (ICRS): (ra, dec) in deg\n",
       "     (9.42583024, -43.65742667)>,\n",
       " 'ES1_z_0.99b': <SkyCoord (ICRS): (ra, dec) in deg\n",
       "     (8.68682931, -42.46247959)>,\n",
       " 'ES1_z_1.04': <SkyCoord (ICRS): (ra, dec) in deg\n",
       "     (8.86268023, -42.24453977)>,\n",
       " 'ES1_z_1.38': <SkyCoord (ICRS): (ra, dec) in deg\n",
       "     (8.64654544, -42.49755029)>,\n",
       " 'ES1_z_1.40': <SkyCoord (ICRS): (ra, dec) in deg\n",
       "     (8.30454461, -43.50318306)>,\n",
       " 'ES1_z_1.60': <SkyCoord (ICRS): (ra, dec) in deg\n",
       "     (9.49796194, -42.98861287)>,\n",
       " 'ES1_z_1.65': <SkyCoord (ICRS): (ra, dec) in deg\n",
       "     (7.97532123, -44.44367109)>,\n",
       " 'ES1_z_1.70': <SkyCoord (ICRS): (ra, dec) in deg\n",
       "     (7.34804958, -43.44989498)>,\n",
       " 'XMM-11': <SkyCoord (ICRS): (ra, dec) in deg\n",
       "     (36.10470322, -2.97216934)>,\n",
       " 'XMM-29': <SkyCoord (ICRS): (ra, dec) in deg\n",
       "     (36.88179475, -4.53898943)>,\n",
       " 'XMM_113': <SkyCoord (ICRS): (ra, dec) in deg\n",
       "     (36.11441348, -3.39652485)>,\n",
       " 'XMM_z_0.81': <SkyCoord (ICRS): (ra, dec) in deg\n",
       "     (34.87522716, -4.12138272)>,\n",
       " 'XMM_z_0.9': <SkyCoord (ICRS): (ra, dec) in deg\n",
       "     (36.12644023, -4.17504904)>,\n",
       " 'XMM_z_1.0': <SkyCoord (ICRS): (ra, dec) in deg\n",
       "     (35.65682871, -3.84653585)>,\n",
       " 'XMM-30': <SkyCoord (ICRS): (ra, dec) in deg\n",
       "     (34.69314137, -5.71999176)>}"
      ]
     },
     "execution_count": 33,
     "metadata": {},
     "output_type": "execute_result"
    }
   ],
   "source": [
    "alma_centroid"
   ]
  },
  {
   "cell_type": "code",
   "execution_count": 34,
   "id": "9553bcc6",
   "metadata": {},
   "outputs": [
    {
     "name": "stdout",
     "output_type": "stream",
     "text": [
      "Stored 'alma_centroid' (dict)\n"
     ]
    }
   ],
   "source": [
    "%store alma_centroid"
   ]
  },
  {
   "cell_type": "code",
   "execution_count": null,
   "id": "17f55a82",
   "metadata": {},
   "outputs": [],
   "source": []
  }
 ],
 "metadata": {
  "kernelspec": {
   "display_name": "Python 3",
   "language": "python",
   "name": "python3"
  },
  "language_info": {
   "codemirror_mode": {
    "name": "ipython",
    "version": 3
   },
   "file_extension": ".py",
   "mimetype": "text/x-python",
   "name": "python",
   "nbconvert_exporter": "python",
   "pygments_lexer": "ipython3",
   "version": "3.8.5"
  }
 },
 "nbformat": 4,
 "nbformat_minor": 5
}
